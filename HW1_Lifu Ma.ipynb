{
 "cells": [
  {
   "cell_type": "markdown",
   "id": "16930280",
   "metadata": {},
   "source": [
    "# Exercise 1: Operations Excellence"
   ]
  },
  {
   "cell_type": "markdown",
   "id": "11b5acc3",
   "metadata": {},
   "source": [
    "1. Write the optimization models for each plant, i.e., make sure to detail the decision variables, the objective function and the constraints."
   ]
  },
  {
   "cell_type": "code",
   "execution_count": null,
   "id": "823c9dd6",
   "metadata": {},
   "outputs": [],
   "source": []
  },
  {
   "cell_type": "markdown",
   "id": "a0a5b6f4",
   "metadata": {},
   "source": [
    "2. Provide the optimal solutions and profit levels for each factory. Give the values of the decision variables and the optimal objective function value."
   ]
  },
  {
   "cell_type": "code",
   "execution_count": null,
   "id": "f024eca6",
   "metadata": {},
   "outputs": [],
   "source": []
  },
  {
   "cell_type": "markdown",
   "id": "67133f32",
   "metadata": {},
   "source": [
    "3. Now, write the optimization model for the joint optimization of Plant A and B, and provide the optimal solution and profit levels."
   ]
  },
  {
   "cell_type": "code",
   "execution_count": null,
   "id": "a12da7e0",
   "metadata": {},
   "outputs": [],
   "source": []
  },
  {
   "cell_type": "markdown",
   "id": "76fb9c85",
   "metadata": {},
   "source": [
    "4. Please comment on the results? How do they compare to the results obtained in Question 2."
   ]
  },
  {
   "cell_type": "code",
   "execution_count": null,
   "id": "ba4623ab",
   "metadata": {},
   "outputs": [],
   "source": []
  },
  {
   "cell_type": "markdown",
   "id": "633c04f7",
   "metadata": {},
   "source": [
    "5. In one paragraph (no more than 300 words), detail the recommendations you would provide to the CEO of the company to improve the firm’s operations?"
   ]
  },
  {
   "cell_type": "code",
   "execution_count": null,
   "id": "f29c4df1",
   "metadata": {},
   "outputs": [],
   "source": []
  }
 ],
 "metadata": {
  "kernelspec": {
   "display_name": "Python 3 (ipykernel)",
   "language": "python",
   "name": "python3"
  },
  "language_info": {
   "codemirror_mode": {
    "name": "ipython",
    "version": 3
   },
   "file_extension": ".py",
   "mimetype": "text/x-python",
   "name": "python",
   "nbconvert_exporter": "python",
   "pygments_lexer": "ipython3",
   "version": "3.9.13"
  }
 },
 "nbformat": 4,
 "nbformat_minor": 5
}
